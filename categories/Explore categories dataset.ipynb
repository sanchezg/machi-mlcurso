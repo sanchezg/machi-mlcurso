{
 "cells": [
  {
   "cell_type": "code",
   "execution_count": 1,
   "metadata": {
    "collapsed": true
   },
   "outputs": [],
   "source": [
    "import kickstart as ks"
   ]
  },
  {
   "cell_type": "markdown",
   "metadata": {},
   "source": [
    "Load the data using provided methods."
   ]
  },
  {
   "cell_type": "code",
   "execution_count": 2,
   "metadata": {
    "collapsed": false
   },
   "outputs": [],
   "source": [
    "train = ks.load_data(\"mlm_items_test.jsonlines\")\n",
    "test = ks.load_data(\"mlm_items_test.jsonlines\")"
   ]
  },
  {
   "cell_type": "markdown",
   "metadata": {},
   "source": [
    "Count elements in dataset."
   ]
  },
  {
   "cell_type": "code",
   "execution_count": 3,
   "metadata": {
    "collapsed": false
   },
   "outputs": [
    {
     "name": "stdout",
     "output_type": "stream",
     "text": [
      "Train set count: 10000\n"
     ]
    }
   ],
   "source": [
    "ctrain = len(train)\n",
    "print \"Train set count: {}\".format(ctrain)"
   ]
  },
  {
   "cell_type": "markdown",
   "metadata": {},
   "source": [
    "See data features."
   ]
  },
  {
   "cell_type": "code",
   "execution_count": 4,
   "metadata": {
    "collapsed": false
   },
   "outputs": [
    {
     "name": "stdout",
     "output_type": "stream",
     "text": [
      "[u'seller_id', u'title', u'price', u'site', u'buying_mode', u'seller_power_status', u'sold_quantity', u'id']\n"
     ]
    }
   ],
   "source": [
    "print train[0].keys()"
   ]
  },
  {
   "cell_type": "markdown",
   "metadata": {},
   "source": [
    "Print some data."
   ]
  },
  {
   "cell_type": "code",
   "execution_count": 5,
   "metadata": {
    "collapsed": false
   },
   "outputs": [
    {
     "name": "stdout",
     "output_type": "stream",
     "text": [
      "{u'seller_id': 126726716, u'title': u'Pistola Calor, Makita, Para Serigrafia Y Sellado Garrafones', u'price': 1483.2, u'site': u'MLM', u'buying_mode': u'buy_it_now', u'seller_power_status': u'platinum', u'sold_quantity': 2, u'id': u'MLM507122226'}\n",
      "{u'seller_id': 87068735, u'title': u'Lampara Tortuga Luminosa  Led Proyecta Estrellas Y Lunas Vbf', u'price': 249, u'site': u'MLM', u'buying_mode': u'buy_it_now', u'seller_power_status': None, u'sold_quantity': 9, u'id': u'MLM509356464'}\n",
      "{u'seller_id': 91152082, u'title': u'Grachi  Temporada 1, Uno. Serie De Tv En Dvd', u'price': 299, u'site': u'MLM', u'buying_mode': u'buy_it_now', u'seller_power_status': u'platinum', u'sold_quantity': 3, u'id': u'MLM506871492'}\n",
      "{u'seller_id': 19393755, u'title': u\"Under Armour Break Over Slider Men's Beisbol Cacheron Ch\", u'price': 490, u'site': u'MLM', u'buying_mode': u'buy_it_now', u'seller_power_status': None, u'sold_quantity': 1, u'id': u'MLM503219592'}\n",
      "{u'seller_id': 122317455, u'title': u'3 Estampas Tu Y Yo Disney, Sin Pegar. Completa Tu Album', u'price': 18, u'site': u'MLM', u'buying_mode': u'buy_it_now', u'seller_power_status': None, u'sold_quantity': 3, u'id': u'MLM503866110'}\n"
     ]
    }
   ],
   "source": [
    "import random\n",
    "for i in xrange(5):\n",
    "    print train[random.randint(0, ctrain)]"
   ]
  },
  {
   "cell_type": "code",
   "execution_count": null,
   "metadata": {
    "collapsed": true
   },
   "outputs": [],
   "source": []
  }
 ],
 "metadata": {
  "kernelspec": {
   "display_name": "Python 2",
   "language": "python",
   "name": "python2"
  },
  "language_info": {
   "codemirror_mode": {
    "name": "ipython",
    "version": 2
   },
   "file_extension": ".py",
   "mimetype": "text/x-python",
   "name": "python",
   "nbconvert_exporter": "python",
   "pygments_lexer": "ipython2",
   "version": "2.7.6"
  }
 },
 "nbformat": 4,
 "nbformat_minor": 0
}
