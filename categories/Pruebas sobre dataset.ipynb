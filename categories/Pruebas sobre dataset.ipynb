{
 "cells": [
  {
   "cell_type": "code",
   "execution_count": 1,
   "metadata": {
    "collapsed": true
   },
   "outputs": [],
   "source": [
    "from kickstart_knn import load_data\n",
    "\n",
    "train = load_data(\"mlm_items_train.jsonlines\")\n",
    "test = load_data(\"mlm_items_test.jsonlines\")"
   ]
  },
  {
   "cell_type": "code",
   "execution_count": 2,
   "metadata": {
    "collapsed": true
   },
   "outputs": [],
   "source": [
    "import kickstart as ks\n",
    "\n",
    "for sample in train:\n",
    "    sample['title'] = ks.remove_words(sample['title'], ks.STOPWORDS)"
   ]
  },
  {
   "cell_type": "code",
   "execution_count": 3,
   "metadata": {
    "collapsed": true
   },
   "outputs": [],
   "source": [
    "tlc = list(set(sample['top_level_category'] for sample in train))"
   ]
  },
  {
   "cell_type": "code",
   "execution_count": 4,
   "metadata": {
    "collapsed": false
   },
   "outputs": [],
   "source": [
    "from collections import Counter\n",
    "\n",
    "titlescounter = {}\n",
    "for c in tlc:\n",
    "    titlescounter[c] = Counter(word for sample in train for word in sample['title'].split() if sample['top_level_category'] == c).most_common(8)"
   ]
  },
  {
   "cell_type": "code",
   "execution_count": 5,
   "metadata": {
    "collapsed": false
   },
   "outputs": [
    {
     "data": {
      "text/plain": [
       "{u'MLM1000': [(u'usb', 349),\n",
       "  (u'cable', 288),\n",
       "  (u'tv', 278),\n",
       "  (u'led', 267),\n",
       "  (u'camara', 263),\n",
       "  (u'sony', 254),\n",
       "  (u'bluetooth', 250),\n",
       "  (u'control', 239)],\n",
       " u'MLM1039': [(u'camara', 408),\n",
       "  (u'bateria', 246),\n",
       "  (u'canon', 238),\n",
       "  (u'nikon', 219),\n",
       "  (u'sony', 196),\n",
       "  (u'cargador', 194),\n",
       "  (u'gopro', 120),\n",
       "  (u'digital', 118)],\n",
       " u'MLM1051': [(u'funda', 1618),\n",
       "  (u'galaxy', 1222),\n",
       "  (u'samsung', 1103),\n",
       "  (u'iphone', 748),\n",
       "  (u'original', 715),\n",
       "  (u'mica', 691),\n",
       "  (u'touch', 610),\n",
       "  (u'bateria', 514)],\n",
       " u'MLM1071': [(u'perro', 220),\n",
       "  (u'perros', 175),\n",
       "  (u'alimento', 99),\n",
       "  (u'cachorros', 92),\n",
       "  (u'collar', 91),\n",
       "  (u'acuario', 86),\n",
       "  (u'gatos', 72),\n",
       "  (u'jaula', 72)],\n",
       " u'MLM1132': [(u'disfraz', 350),\n",
       "  (u'peluche', 320),\n",
       "  (u'fiesta', 307),\n",
       "  (u'disney', 300),\n",
       "  (u'lego', 274),\n",
       "  (u'original', 219),\n",
       "  (u'set', 162),\n",
       "  (u'nuevo', 154)],\n",
       " u'MLM1144': [(u'xbox', 738),\n",
       "  (u'ps3', 423),\n",
       "  (u'nuevo', 333),\n",
       "  (u'nintendo', 303),\n",
       "  (u'of', 281),\n",
       "  (u'wii', 240),\n",
       "  (u'control', 212),\n",
       "  (u'the', 172)],\n",
       " u'MLM1168': [(u'dvd', 606),\n",
       "  (u'cd', 524),\n",
       "  (u'the', 210),\n",
       "  (u'serie', 207),\n",
       "  (u'nuevo', 173),\n",
       "  (u'tv', 172),\n",
       "  (u',', 134),\n",
       "  (u'temporada', 111)],\n",
       " u'MLM1182': [(u'guitarra', 261),\n",
       "  (u'yamaha', 68),\n",
       "  (u'bajo', 61),\n",
       "  (u'teclado', 56),\n",
       "  (u'cuerdas', 52),\n",
       "  (u'microfono', 45),\n",
       "  (u'amplificador', 44),\n",
       "  (u'electrica', 43)],\n",
       " u'MLM1246': [(u'perfume', 1015),\n",
       "  (u'ml', 549),\n",
       "  (u'original', 455),\n",
       "  (u'dama', 327),\n",
       "  (u'cabello', 244),\n",
       "  (u'caballero', 226),\n",
       "  (u'by', 174),\n",
       "  (u'u\\xf1as', 157)],\n",
       " u'MLM1276': [(u'jersey', 463),\n",
       "  (u'bicicleta', 327),\n",
       "  (u'nike', 300),\n",
       "  (u'adidas', 180),\n",
       "  (u'original', 167),\n",
       "  (u'tenis', 154),\n",
       "  (u'marca', 154),\n",
       "  (u'gotcha', 136)],\n",
       " u'MLM1367': [(u'scrapbook', 61),\n",
       "  (u'antiguo', 46),\n",
       "  (u'antigua', 37),\n",
       "  (u'madera', 36),\n",
       "  (u'figura', 32),\n",
       "  (u'papel', 30),\n",
       "  (u'cm', 26),\n",
       "  (u'perforadora', 25)],\n",
       " u'MLM1384': [(u'bebe', 162),\n",
       "  (u'cuna', 78),\n",
       "  (u'fisher', 77),\n",
       "  (u'price', 74),\n",
       "  (u'baby', 63),\n",
       "  (u'silla', 61),\n",
       "  (u'beb\\xe9', 51),\n",
       "  (u'carreola', 49)],\n",
       " u'MLM1430': [(u'tenis', 597),\n",
       "  (u'playera', 469),\n",
       "  (u'dama', 398),\n",
       "  (u'vestido', 367),\n",
       "  (u'moda', 337),\n",
       "  (u'original', 326),\n",
       "  (u'negro', 313),\n",
       "  (u'talla', 290)],\n",
       " u'MLM1499': [(u'oferta', 178),\n",
       "  (u'maquina', 140),\n",
       "  (u'marca', 134),\n",
       "  (u'digital', 123),\n",
       "  (u'x', 121),\n",
       "  (u'acero', 120),\n",
       "  (u'hp', 106),\n",
       "  (u'kg', 103)],\n",
       " u'MLM1574': [(u'led', 227),\n",
       "  (u'semillas', 207),\n",
       "  (u'juego', 190),\n",
       "  (u'marca', 177),\n",
       "  (u'hm4', 169),\n",
       "  (u'madera', 160),\n",
       "  (u'acero', 159),\n",
       "  (u'lampara', 153)],\n",
       " u'MLM1648': [(u'hp', 1422),\n",
       "  (u'laptop', 906),\n",
       "  (u'teclado', 889),\n",
       "  (u'bateria', 680),\n",
       "  (u'usb', 646),\n",
       "  (u'dell', 535),\n",
       "  (u'toner', 480),\n",
       "  (u'cable', 470)],\n",
       " u'MLM1747': [(u'ford', 1029),\n",
       "  (u'faro', 829),\n",
       "  (u'vw', 822),\n",
       "  (u'chevrolet', 756),\n",
       "  (u'nissan', 706),\n",
       "  (u'jetta', 704),\n",
       "  (u'honda', 560),\n",
       "  (u'regalo', 536)],\n",
       " u'MLM1798': [(u'hot', 295),\n",
       "  (u'the', 268),\n",
       "  (u'wheels', 244),\n",
       "  (u'figura', 232),\n",
       "  (u'of', 199),\n",
       "  (u'star', 182),\n",
       "  (u'wars', 163),\n",
       "  (u'marvel', 161)],\n",
       " u'MLM1953': [(u'kit', 495),\n",
       "  (u'imprimible', 399),\n",
       "  (u'recuerdos', 240),\n",
       "  (u'recuerdo', 240),\n",
       "  (u'bautizo', 206),\n",
       "  (u'invitaciones', 191),\n",
       "  (u'baby', 189),\n",
       "  (u'boda', 184)],\n",
       " u'MLM3025': [(u'libro', 270),\n",
       "  (u'negocio', 71),\n",
       "  (u'revista', 67),\n",
       "  (u'inicia', 56),\n",
       "  (u'editorial', 55),\n",
       "  (u'the', 53),\n",
       "  (u'libros', 48),\n",
       "  (u'como', 46)],\n",
       " u'MLM3937': [(u'reloj', 596),\n",
       "  (u'plata', 415),\n",
       "  (u'anillo', 323),\n",
       "  (u'dije', 307),\n",
       "  (u'oro', 233),\n",
       "  (u'acero', 222),\n",
       "  (u'pulsera', 193),\n",
       "  (u'collar', 178)]}"
      ]
     },
     "execution_count": 5,
     "metadata": {},
     "output_type": "execute_result"
    }
   ],
   "source": [
    "titlescounter"
   ]
  },
  {
   "cell_type": "code",
   "execution_count": null,
   "metadata": {
    "collapsed": true
   },
   "outputs": [],
   "source": [
    "for sample in train:\n",
    "    if "
   ]
  }
 ],
 "metadata": {
  "kernelspec": {
   "display_name": "Python 2",
   "language": "python",
   "name": "python2"
  },
  "language_info": {
   "codemirror_mode": {
    "name": "ipython",
    "version": 2
   },
   "file_extension": ".py",
   "mimetype": "text/x-python",
   "name": "python",
   "nbconvert_exporter": "python",
   "pygments_lexer": "ipython2",
   "version": "2.7.6"
  }
 },
 "nbformat": 4,
 "nbformat_minor": 0
}
