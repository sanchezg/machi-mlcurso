{
 "cells": [
  {
   "cell_type": "code",
   "execution_count": 1,
   "metadata": {
    "collapsed": false
   },
   "outputs": [],
   "source": [
    "import pandas as pd\n",
    "import numpy as np\n",
    "\n",
    "from sklearn.cross_validation import cross_val_score\n",
    "\n",
    "from kickstart import load_data\n",
    "from estimator import TitleEstimator, TitlePriceEstimator, TitlePriceSellerEstimator, TitleSellerEstimator"
   ]
  },
  {
   "cell_type": "code",
   "execution_count": 2,
   "metadata": {
    "collapsed": false
   },
   "outputs": [
    {
     "data": {
      "text/html": [
       "<div>\n",
       "<table border=\"1\" class=\"dataframe\">\n",
       "  <thead>\n",
       "    <tr style=\"text-align: right;\">\n",
       "      <th></th>\n",
       "      <th>buying_mode</th>\n",
       "      <th>category_id</th>\n",
       "      <th>category_path</th>\n",
       "      <th>id</th>\n",
       "      <th>price</th>\n",
       "      <th>seller_id</th>\n",
       "      <th>seller_power_status</th>\n",
       "      <th>site</th>\n",
       "      <th>sold_quantity</th>\n",
       "      <th>title</th>\n",
       "      <th>top_level_category</th>\n",
       "    </tr>\n",
       "  </thead>\n",
       "  <tbody>\n",
       "    <tr>\n",
       "      <th>0</th>\n",
       "      <td>buy_it_now</td>\n",
       "      <td>MLM54184</td>\n",
       "      <td>[MLM1648, MLM1712, MLM10345, MLM54184]</td>\n",
       "      <td>MLM505628392</td>\n",
       "      <td>39.00</td>\n",
       "      <td>75259727</td>\n",
       "      <td>platinum</td>\n",
       "      <td>MLM</td>\n",
       "      <td>21</td>\n",
       "      <td>Ventilador De Aspas Eva Usb Para Laptop Y Pc F...</td>\n",
       "      <td>MLM1648</td>\n",
       "    </tr>\n",
       "    <tr>\n",
       "      <th>1</th>\n",
       "      <td>buy_it_now</td>\n",
       "      <td>MLM45850</td>\n",
       "      <td>[MLM1747, MLM5320, MLM92132, MLM4872, MLM45914...</td>\n",
       "      <td>MLM502955080</td>\n",
       "      <td>2650.00</td>\n",
       "      <td>25364879</td>\n",
       "      <td>None</td>\n",
       "      <td>MLM</td>\n",
       "      <td>1</td>\n",
       "      <td>Defensa Trasera Roll Pan Chevrolet Silverado 1...</td>\n",
       "      <td>MLM1747</td>\n",
       "    </tr>\n",
       "    <tr>\n",
       "      <th>2</th>\n",
       "      <td>buy_it_now</td>\n",
       "      <td>MLM149705</td>\n",
       "      <td>[MLM1430, MLM5208, MLM3120, MLM149693, MLM149705]</td>\n",
       "      <td>MLM502793628</td>\n",
       "      <td>3175.66</td>\n",
       "      <td>173637842</td>\n",
       "      <td>None</td>\n",
       "      <td>MLM</td>\n",
       "      <td>1</td>\n",
       "      <td>John Deere Hombres 11  Vaquero Camo Acero Vást...</td>\n",
       "      <td>MLM1430</td>\n",
       "    </tr>\n",
       "    <tr>\n",
       "      <th>3</th>\n",
       "      <td>buy_it_now</td>\n",
       "      <td>MLM124010</td>\n",
       "      <td>[MLM1499, MLM5182, MLM124010]</td>\n",
       "      <td>MLM502342306</td>\n",
       "      <td>1799.00</td>\n",
       "      <td>93914788</td>\n",
       "      <td>platinum</td>\n",
       "      <td>MLM</td>\n",
       "      <td>5</td>\n",
       "      <td>Freidora Plancha Estufa  3 En 1 Tina De Acero ...</td>\n",
       "      <td>MLM1499</td>\n",
       "    </tr>\n",
       "    <tr>\n",
       "      <th>4</th>\n",
       "      <td>buy_it_now</td>\n",
       "      <td>MLM5071</td>\n",
       "      <td>[MLM1051, MLM3813, MLM5071]</td>\n",
       "      <td>MLM509028239</td>\n",
       "      <td>120.00</td>\n",
       "      <td>152585084</td>\n",
       "      <td>None</td>\n",
       "      <td>MLM</td>\n",
       "      <td>10</td>\n",
       "      <td>Bolsa Univesal Impermiable Para Iphone Y Los D...</td>\n",
       "      <td>MLM1051</td>\n",
       "    </tr>\n",
       "  </tbody>\n",
       "</table>\n",
       "</div>"
      ],
      "text/plain": [
       "  buying_mode category_id                                      category_path  \\\n",
       "0  buy_it_now    MLM54184             [MLM1648, MLM1712, MLM10345, MLM54184]   \n",
       "1  buy_it_now    MLM45850  [MLM1747, MLM5320, MLM92132, MLM4872, MLM45914...   \n",
       "2  buy_it_now   MLM149705  [MLM1430, MLM5208, MLM3120, MLM149693, MLM149705]   \n",
       "3  buy_it_now   MLM124010                      [MLM1499, MLM5182, MLM124010]   \n",
       "4  buy_it_now     MLM5071                        [MLM1051, MLM3813, MLM5071]   \n",
       "\n",
       "             id    price  seller_id seller_power_status site  sold_quantity  \\\n",
       "0  MLM505628392    39.00   75259727            platinum  MLM             21   \n",
       "1  MLM502955080  2650.00   25364879                None  MLM              1   \n",
       "2  MLM502793628  3175.66  173637842                None  MLM              1   \n",
       "3  MLM502342306  1799.00   93914788            platinum  MLM              5   \n",
       "4  MLM509028239   120.00  152585084                None  MLM             10   \n",
       "\n",
       "                                               title top_level_category  \n",
       "0  Ventilador De Aspas Eva Usb Para Laptop Y Pc F...            MLM1648  \n",
       "1  Defensa Trasera Roll Pan Chevrolet Silverado 1...            MLM1747  \n",
       "2  John Deere Hombres 11  Vaquero Camo Acero Vást...            MLM1430  \n",
       "3  Freidora Plancha Estufa  3 En 1 Tina De Acero ...            MLM1499  \n",
       "4  Bolsa Univesal Impermiable Para Iphone Y Los D...            MLM1051  "
      ]
     },
     "execution_count": 2,
     "metadata": {},
     "output_type": "execute_result"
    }
   ],
   "source": [
    "dataset = load_data(\"mlm_items_train.jsonlines\")\n",
    "dataset = pd.DataFrame(dataset)\n",
    "\n",
    "dataset.head()"
   ]
  },
  {
   "cell_type": "code",
   "execution_count": 3,
   "metadata": {
    "collapsed": false
   },
   "outputs": [
    {
     "data": {
      "text/plain": [
       "count       100000\n",
       "unique       20390\n",
       "top       82105256\n",
       "freq           853\n",
       "Name: seller_id, dtype: int64"
      ]
     },
     "execution_count": 3,
     "metadata": {},
     "output_type": "execute_result"
    }
   ],
   "source": [
    "# Some preprocessing\n",
    "\n",
    "dataset['seller_id'] = dataset['seller_id'].astype('category')\n",
    "dataset.seller_id.describe()"
   ]
  },
  {
   "cell_type": "code",
   "execution_count": 4,
   "metadata": {
    "collapsed": true
   },
   "outputs": [],
   "source": [
    "columns = ['category_id', 'category_path', 'top_level_category']"
   ]
  },
  {
   "cell_type": "code",
   "execution_count": 6,
   "metadata": {
    "collapsed": false
   },
   "outputs": [],
   "source": [
    "clf = TitleEstimator()"
   ]
  },
  {
   "cell_type": "code",
   "execution_count": 7,
   "metadata": {
    "collapsed": false
   },
   "outputs": [],
   "source": [
    "from sklearn.cross_validation import cross_val_score\n",
    "\n",
    "acc = cross_val_score(clf, dataset.drop(columns, axis=1), y=dataset['top_level_category'], cv=10, n_jobs=1)"
   ]
  },
  {
   "cell_type": "code",
   "execution_count": 6,
   "metadata": {
    "collapsed": false
   },
   "outputs": [
    {
     "name": "stdout",
     "output_type": "stream",
     "text": [
      "Accuracy:  0.81817\n"
     ]
    }
   ],
   "source": [
    "print(\"Accuracy: \", acc.mean())"
   ]
  },
  {
   "cell_type": "code",
   "execution_count": 7,
   "metadata": {
    "collapsed": false
   },
   "outputs": [],
   "source": [
    "clf1 = TitlePriceEstimator()\n",
    "acc1 = cross_val_score(clf1, dataset.drop(columns, axis=1), y=dataset['top_level_category'], cv=10, n_jobs=1)"
   ]
  },
  {
   "cell_type": "code",
   "execution_count": 8,
   "metadata": {
    "collapsed": false
   },
   "outputs": [
    {
     "name": "stdout",
     "output_type": "stream",
     "text": [
      "Accuracy:  0.14864\n"
     ]
    }
   ],
   "source": [
    "print(\"Accuracy: \", acc1.mean())"
   ]
  },
  {
   "cell_type": "code",
   "execution_count": 10,
   "metadata": {
    "collapsed": false
   },
   "outputs": [],
   "source": [
    "clf2 = TitlePriceSellerEstimator()\n",
    "acc2 = cross_val_score(clf2, dataset.drop(columns, axis=1), y=dataset['top_level_category'], cv=10, n_jobs=1)"
   ]
  },
  {
   "cell_type": "code",
   "execution_count": 11,
   "metadata": {
    "collapsed": false
   },
   "outputs": [
    {
     "name": "stdout",
     "output_type": "stream",
     "text": [
      "Accuracy:  0.14864\n"
     ]
    }
   ],
   "source": [
    "print(\"Accuracy: \", acc2.mean())"
   ]
  },
  {
   "cell_type": "code",
   "execution_count": null,
   "metadata": {
    "collapsed": true
   },
   "outputs": [],
   "source": [
    "clf3 = TitleSellerEstimator()\n",
    "acc3 = cross_val_score(clf3, dataset.drop(columns, axis=1), y=dataset['top_level_category'], cv=4, n_jobs=1)"
   ]
  },
  {
   "cell_type": "code",
   "execution_count": null,
   "metadata": {
    "collapsed": true
   },
   "outputs": [],
   "source": [
    "print(\"Accuracy: \", acc3.mean())"
   ]
  }
 ],
 "metadata": {
  "kernelspec": {
   "display_name": "Python 3",
   "language": "python",
   "name": "python3"
  },
  "language_info": {
   "codemirror_mode": {
    "name": "ipython",
    "version": 3
   },
   "file_extension": ".py",
   "mimetype": "text/x-python",
   "name": "python",
   "nbconvert_exporter": "python",
   "pygments_lexer": "ipython3",
   "version": "3.4.3"
  }
 },
 "nbformat": 4,
 "nbformat_minor": 1
}
